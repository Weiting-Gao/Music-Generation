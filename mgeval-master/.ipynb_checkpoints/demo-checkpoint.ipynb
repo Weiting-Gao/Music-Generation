{
 "cells": [
  {
   "cell_type": "markdown",
   "metadata": {},
   "source": [
    "# Usage Demo : \n"
   ]
  },
  {
   "cell_type": "code",
   "execution_count": 120,
   "metadata": {},
   "outputs": [],
   "source": [
    "import midi\n",
    "import glob\n",
    "import numpy as np\n",
    "import pretty_midi\n",
    "import seaborn as sns\n",
    "import matplotlib.pyplot as plt\n",
    "from mgeval import core, utils\n",
    "from sklearn.model_selection import LeaveOneOut"
   ]
  },
  {
   "cell_type": "markdown",
   "metadata": {},
   "source": [
    "## Absolute measurement: statistic analysis\n"
   ]
  },
  {
   "cell_type": "markdown",
   "metadata": {},
   "source": [
    "Assign dataset path"
   ]
  },
  {
   "cell_type": "code",
   "execution_count": 121,
   "metadata": {},
   "outputs": [],
   "source": [
    "set1 = glob.glob('/Users/gwt/Documents/njit/course/dl/project/Music-Generation-master/train/*.mid')"
   ]
  },
  {
   "cell_type": "markdown",
   "metadata": {},
   "source": [
    "construct empty dictionary to fill in measurement across samples"
   ]
  },
  {
   "cell_type": "code",
   "execution_count": 122,
   "metadata": {},
   "outputs": [],
   "source": [
    "num_samples = 5"
   ]
  },
  {
   "cell_type": "code",
   "execution_count": 129,
   "metadata": {},
   "outputs": [
    {
     "name": "stdout",
     "output_type": "stream",
     "text": [
      "<class 'int'>\n"
     ]
    },
    {
     "ename": "IndexError",
     "evalue": "only integers, slices (`:`), ellipsis (`...`), numpy.newaxis (`None`) and integer or boolean arrays are valid indices",
     "output_type": "error",
     "traceback": [
      "\u001b[0;31m---------------------------------------------------------------------------\u001b[0m",
      "\u001b[0;31mIndexError\u001b[0m                                Traceback (most recent call last)",
      "\u001b[0;32m<ipython-input-129-cedd0e104fbe>\u001b[0m in \u001b[0;36m<module>\u001b[0;34m\u001b[0m\n\u001b[1;32m      9\u001b[0m     \u001b[0mprint\u001b[0m\u001b[0;34m(\u001b[0m\u001b[0mtype\u001b[0m\u001b[0;34m(\u001b[0m\u001b[0mfeature\u001b[0m\u001b[0;34m[\u001b[0m\u001b[0;34m'midi_pattern'\u001b[0m\u001b[0;34m]\u001b[0m\u001b[0;34m.\u001b[0m\u001b[0mresolution\u001b[0m\u001b[0;34m)\u001b[0m\u001b[0;34m)\u001b[0m\u001b[0;34m\u001b[0m\u001b[0;34m\u001b[0m\u001b[0m\n\u001b[1;32m     10\u001b[0m     \u001b[0mset1_eval\u001b[0m\u001b[0;34m[\u001b[0m\u001b[0mmetrics_list\u001b[0m\u001b[0;34m[\u001b[0m\u001b[0;36m0\u001b[0m\u001b[0;34m]\u001b[0m\u001b[0;34m]\u001b[0m\u001b[0;34m[\u001b[0m\u001b[0mi\u001b[0m\u001b[0;34m]\u001b[0m \u001b[0;34m=\u001b[0m \u001b[0mgetattr\u001b[0m\u001b[0;34m(\u001b[0m\u001b[0mcore\u001b[0m\u001b[0;34m.\u001b[0m\u001b[0mmetrics\u001b[0m\u001b[0;34m(\u001b[0m\u001b[0;34m)\u001b[0m\u001b[0;34m,\u001b[0m \u001b[0mmetrics_list\u001b[0m\u001b[0;34m[\u001b[0m\u001b[0;36m0\u001b[0m\u001b[0;34m]\u001b[0m\u001b[0;34m)\u001b[0m\u001b[0;34m(\u001b[0m\u001b[0mfeature\u001b[0m\u001b[0;34m)\u001b[0m\u001b[0;34m\u001b[0m\u001b[0;34m\u001b[0m\u001b[0m\n\u001b[0;32m---> 11\u001b[0;31m     \u001b[0mset1_eval\u001b[0m\u001b[0;34m[\u001b[0m\u001b[0mmetrics_list\u001b[0m\u001b[0;34m[\u001b[0m\u001b[0;36m1\u001b[0m\u001b[0;34m]\u001b[0m\u001b[0;34m]\u001b[0m\u001b[0;34m[\u001b[0m\u001b[0mi\u001b[0m\u001b[0;34m]\u001b[0m \u001b[0;34m=\u001b[0m \u001b[0mgetattr\u001b[0m\u001b[0;34m(\u001b[0m\u001b[0mcore\u001b[0m\u001b[0;34m.\u001b[0m\u001b[0mmetrics\u001b[0m\u001b[0;34m(\u001b[0m\u001b[0;34m)\u001b[0m\u001b[0;34m,\u001b[0m \u001b[0mmetrics_list\u001b[0m\u001b[0;34m[\u001b[0m\u001b[0;36m1\u001b[0m\u001b[0;34m]\u001b[0m\u001b[0;34m)\u001b[0m\u001b[0;34m(\u001b[0m\u001b[0mfeature\u001b[0m\u001b[0;34m)\u001b[0m\u001b[0;34m\u001b[0m\u001b[0;34m\u001b[0m\u001b[0m\n\u001b[0m\u001b[1;32m     12\u001b[0m     \u001b[0mset1_eval\u001b[0m\u001b[0;34m[\u001b[0m\u001b[0mmetrics_list\u001b[0m\u001b[0;34m[\u001b[0m\u001b[0;36m2\u001b[0m\u001b[0;34m]\u001b[0m\u001b[0;34m]\u001b[0m\u001b[0;34m[\u001b[0m\u001b[0mi\u001b[0m\u001b[0;34m]\u001b[0m \u001b[0;34m=\u001b[0m \u001b[0mgetattr\u001b[0m\u001b[0;34m(\u001b[0m\u001b[0mcore\u001b[0m\u001b[0;34m.\u001b[0m\u001b[0mmetrics\u001b[0m\u001b[0;34m(\u001b[0m\u001b[0;34m)\u001b[0m\u001b[0;34m,\u001b[0m \u001b[0mmetrics_list\u001b[0m\u001b[0;34m[\u001b[0m\u001b[0;36m2\u001b[0m\u001b[0;34m]\u001b[0m\u001b[0;34m)\u001b[0m\u001b[0;34m(\u001b[0m\u001b[0mfeature\u001b[0m\u001b[0;34m)\u001b[0m\u001b[0;34m\u001b[0m\u001b[0;34m\u001b[0m\u001b[0m\n\u001b[1;32m     13\u001b[0m     \u001b[0mset1_eval\u001b[0m\u001b[0;34m[\u001b[0m\u001b[0mmetrics_list\u001b[0m\u001b[0;34m[\u001b[0m\u001b[0;36m3\u001b[0m\u001b[0;34m]\u001b[0m\u001b[0;34m]\u001b[0m\u001b[0;34m[\u001b[0m\u001b[0mi\u001b[0m\u001b[0;34m]\u001b[0m \u001b[0;34m=\u001b[0m \u001b[0mgetattr\u001b[0m\u001b[0;34m(\u001b[0m\u001b[0mcore\u001b[0m\u001b[0;34m.\u001b[0m\u001b[0mmetrics\u001b[0m\u001b[0;34m(\u001b[0m\u001b[0;34m)\u001b[0m\u001b[0;34m,\u001b[0m \u001b[0mmetrics_list\u001b[0m\u001b[0;34m[\u001b[0m\u001b[0;36m3\u001b[0m\u001b[0;34m]\u001b[0m\u001b[0;34m)\u001b[0m\u001b[0;34m(\u001b[0m\u001b[0mfeature\u001b[0m\u001b[0;34m)\u001b[0m\u001b[0;34m\u001b[0m\u001b[0;34m\u001b[0m\u001b[0m\n",
      "\u001b[0;32m~/Documents/njit/course/dl/project/mgeval-master/mgeval/core.py\u001b[0m in \u001b[0;36mbar_used_pitch\u001b[0;34m(self, feature, track_num, num_bar)\u001b[0m\n\u001b[1;32m     74\u001b[0m                     \u001b[0mbar_length\u001b[0m \u001b[0;34m=\u001b[0m \u001b[0;36m4\u001b[0m \u001b[0;34m*\u001b[0m \u001b[0mresolution\u001b[0m\u001b[0;34m\u001b[0m\u001b[0;34m\u001b[0m\u001b[0m\n\u001b[1;32m     75\u001b[0m                     \u001b[0mtime_sig\u001b[0m \u001b[0;34m=\u001b[0m \u001b[0;34m[\u001b[0m\u001b[0;36m4\u001b[0m\u001b[0;34m,\u001b[0m \u001b[0;36m2\u001b[0m\u001b[0;34m,\u001b[0m \u001b[0;36m24\u001b[0m\u001b[0;34m,\u001b[0m \u001b[0;36m8\u001b[0m\u001b[0;34m]\u001b[0m\u001b[0;34m\u001b[0m\u001b[0;34m\u001b[0m\u001b[0m\n\u001b[0;32m---> 76\u001b[0;31m                     \u001b[0;32mif\u001b[0m \u001b[0mnum_bar\u001b[0m \u001b[0;34m==\u001b[0m \u001b[0;32mNone\u001b[0m\u001b[0;34m:\u001b[0m\u001b[0;34m\u001b[0m\u001b[0;34m\u001b[0m\u001b[0m\n\u001b[0m\u001b[1;32m     77\u001b[0m                         \u001b[0;31m#print(12)\u001b[0m\u001b[0;34m\u001b[0m\u001b[0;34m\u001b[0m\u001b[0;34m\u001b[0m\u001b[0m\n\u001b[1;32m     78\u001b[0m                         \u001b[0mnum_bar\u001b[0m\u001b[0;34m=\u001b[0m\u001b[0;36m0\u001b[0m\u001b[0;34m\u001b[0m\u001b[0;34m\u001b[0m\u001b[0m\n",
      "\u001b[0;31mIndexError\u001b[0m: only integers, slices (`:`), ellipsis (`...`), numpy.newaxis (`None`) and integer or boolean arrays are valid indices"
     ]
    }
   ],
   "source": [
    "set1_eval = {'total_used_pitch':np.zeros((num_samples,1)),'bar_used_pitch':np.zeros((num_samples,1)),'total_used_note':np.zeros((num_samples,1)),'bar_used_note':np.zeros((num_samples,1)),'total_pitch_class_histogram':np.zeros((num_samples,1)),'bar_pitch_class_histogram':np.zeros((num_samples,1)),'pitch_class_transition_matrix':np.zeros((num_samples,1)),'pitch_range':np.zeros((num_samples,1)),'avg_pitch_shift':np.zeros((num_samples,1)),'avg_IOI':np.zeros((num_samples,1)),'note_length_hist':np.zeros((num_samples,1)),'note_length_transition_matrix':np.zeros((num_samples,1))}\n",
    "metrics_list = list(set1_eval.keys())\n",
    "# print(set1_eval)\n",
    "#print(num_samples)\n",
    "#print(metrics_list)\n",
    "for i in range(0, num_samples):\n",
    "    #print(i)\n",
    "    feature = core.extract_feature(set1[i])\n",
    "    print(type(feature['midi_pattern'].resolution))\n",
    "    set1_eval[metrics_list[0]][i] = getattr(core.metrics(), metrics_list[0])(feature)\n",
    "    set1_eval[metrics_list[1]][i] = getattr(core.metrics(), metrics_list[1])(feature)\n",
    "    set1_eval[metrics_list[2]][i] = getattr(core.metrics(), metrics_list[2])(feature)\n",
    "    set1_eval[metrics_list[3]][i] = getattr(core.metrics(), metrics_list[3])(feature)\n",
    "    set1_eval[metrics_list[4]][i] = getattr(core.metrics(), metrics_list[4])(feature)\n",
    "    set1_eval[metrics_list[5]][i] = getattr(core.metrics(), metrics_list[5])(feature)\n",
    "    set1_eval[metrics_list[6]][i] = getattr(core.metrics(), metrics_list[6])(feature)\n",
    "    set1_eval[metrics_list[7]][i] = getattr(core.metrics(), metrics_list[7])(feature)\n",
    "    set1_eval[metrics_list[8]][i] = getattr(core.metrics(), metrics_list[8])(feature)\n",
    "    set1_eval[metrics_list[9]][i] = getattr(core.metrics(), metrics_list[9])(feature)\n",
    "    set1_eval[metrics_list[10]][i] = getattr(core.metrics(), metrics_list[10])(feature)\n",
    "    set1_eval[metrics_list[11]][i] = getattr(core.metrics(), metrics_list[11])(feature)\n"
   ]
  },
  {
   "cell_type": "raw",
   "metadata": {},
   "source": [
    "repeat for second dataset"
   ]
  },
  {
   "cell_type": "code",
   "execution_count": 51,
   "metadata": {},
   "outputs": [],
   "source": [
    "#num_samples_2=1\n",
    "set2 = glob.glob('/Users/gwt/Documents/njit/course/dl/project/Music-Generation-master/generated/*.mid')\n",
    "set2_eval = {'total_used_pitch':np.zeros((num_samples,1)),'bar_used_pitch':np.zeros((num_samples,1)),'total_used_note':np.zeros((num_samples,1)),'bar_used_note':np.zeros((num_samples,1)),'total_pitch_class_histogram':np.zeros((num_samples,1)),'bar_pitch_class_histogram':np.zeros((num_samples,1)),'pitch_class_transition_matrix':np.zeros((num_samples,1)),'pitch_range':np.zeros((num_samples,1)),'avg_pitch_shift':np.zeros((num_samples,1)),'avg_IOI':np.zeros((num_samples,1)),'note_length_hist':np.zeros((num_samples,1)),'note_length_transition_matrix':np.zeros((num_samples,1))}\n",
    "for i in range(0, num_samples):\n",
    "    feature = core.extract_feature(set2[i])\n",
    "    set2_eval[metrics_list[0]][i] = getattr(core.metrics(), metrics_list[0])(feature)\n",
    "    set2_eval[metrics_list[1]][i] = getattr(core.metrics(), metrics_list[1])(feature)\n",
    "    set2_eval[metrics_list[2]][i] = getattr(core.metrics(), metrics_list[2])(feature)\n",
    "    set2_eval[metrics_list[3]][i] = getattr(core.metrics(), metrics_list[3])(feature)\n",
    "    set2_eval[metrics_list[4]][i] = getattr(core.metrics(), metrics_list[4])(feature)\n",
    "    set2_eval[metrics_list[5]][i] = getattr(core.metrics(), metrics_list[5])(feature)\n",
    "    set2_eval[metrics_list[6]][i] = getattr(core.metrics(), metrics_list[6])(feature)\n",
    "    set2_eval[metrics_list[7]][i] = getattr(core.metrics(), metrics_list[7])(feature)\n",
    "    set2_eval[metrics_list[8]][i] = getattr(core.metrics(), metrics_list[8])(feature)\n",
    "    set2_eval[metrics_list[9]][i] = getattr(core.metrics(), metrics_list[9])(feature)\n",
    "    set2_eval[metrics_list[10]][i] = getattr(core.metrics(), metrics_list[10])(feature)\n",
    "    set2_eval[metrics_list[11]][i] = getattr(core.metrics(), metrics_list[11])(feature)"
   ]
  },
  {
   "cell_type": "markdown",
   "metadata": {},
   "source": [
    "statistic analysis: absolute measurement"
   ]
  },
  {
   "cell_type": "code",
   "execution_count": 52,
   "metadata": {
    "scrolled": true
   },
   "outputs": [
    {
     "name": "stdout",
     "output_type": "stream",
     "text": [
      "total_used_pitch:\n",
      "------------------------\n",
      " demo_set\n",
      "  mean:  [46.8]\n",
      "  std:  [4.26145515]\n",
      "------------------------\n",
      " demo_set\n",
      "  mean:  [18.2]\n",
      "  std:  [2.71293199]\n"
     ]
    }
   ],
   "source": [
    "for i in range(0, len(metrics_list)):\n",
    "    print(metrics_list[i] + ':')\n",
    "    print('------------------------')\n",
    "    print(' demo_set')\n",
    "    print('  mean: ', np.mean(set1_eval[metrics_list[i]], axis=0))\n",
    "    print('  std: ', np.std(set1_eval[metrics_list[i]], axis=0))\n",
    "\n",
    "    print('------------------------')\n",
    "    print(' demo_set')\n",
    "    print('  mean: ', np.mean(set2_eval[metrics_list[i]], axis=0))\n",
    "    print('  std: ', np.std(set2_eval[metrics_list[i]], axis=0))\n"
   ]
  },
  {
   "cell_type": "code",
   "execution_count": null,
   "metadata": {},
   "outputs": [],
   "source": [
    "featureList=[\"bar_used_pitch\",'total_used_note','bar_used_note']"
   ]
  },
  {
   "cell_type": "code",
   "execution_count": 133,
   "metadata": {},
   "outputs": [
    {
     "ename": "IndexError",
     "evalue": "only integers, slices (`:`), ellipsis (`...`), numpy.newaxis (`None`) and integer or boolean arrays are valid indices",
     "output_type": "error",
     "traceback": [
      "\u001b[0;31m---------------------------------------------------------------------------\u001b[0m",
      "\u001b[0;31mIndexError\u001b[0m                                Traceback (most recent call last)",
      "\u001b[0;32m<ipython-input-133-c46056fd7aea>\u001b[0m in \u001b[0;36m<module>\u001b[0;34m\u001b[0m\n\u001b[1;32m      2\u001b[0m     \u001b[0;31m#print(i)\u001b[0m\u001b[0;34m\u001b[0m\u001b[0;34m\u001b[0m\u001b[0;34m\u001b[0m\u001b[0m\n\u001b[1;32m      3\u001b[0m     \u001b[0mfeature\u001b[0m \u001b[0;34m=\u001b[0m \u001b[0mcore\u001b[0m\u001b[0;34m.\u001b[0m\u001b[0mextract_feature\u001b[0m\u001b[0;34m(\u001b[0m\u001b[0mset1\u001b[0m\u001b[0;34m[\u001b[0m\u001b[0mi\u001b[0m\u001b[0;34m]\u001b[0m\u001b[0;34m)\u001b[0m\u001b[0;34m\u001b[0m\u001b[0;34m\u001b[0m\u001b[0m\n\u001b[0;32m----> 4\u001b[0;31m     \u001b[0mprint\u001b[0m\u001b[0;34m(\u001b[0m\u001b[0mgetattr\u001b[0m\u001b[0;34m(\u001b[0m\u001b[0mcore\u001b[0m\u001b[0;34m.\u001b[0m\u001b[0mmetrics\u001b[0m\u001b[0;34m(\u001b[0m\u001b[0;34m)\u001b[0m\u001b[0;34m,\u001b[0m \u001b[0;34m\"bar_used_pitch\"\u001b[0m\u001b[0;34m)\u001b[0m\u001b[0;34m(\u001b[0m\u001b[0mfeature\u001b[0m\u001b[0;34m)\u001b[0m\u001b[0;34m)\u001b[0m\u001b[0;34m\u001b[0m\u001b[0;34m\u001b[0m\u001b[0m\n\u001b[0m",
      "\u001b[0;32m~/Documents/njit/course/dl/project/mgeval-master/mgeval/core.py\u001b[0m in \u001b[0;36mbar_used_pitch\u001b[0;34m(self, feature, track_num, num_bar)\u001b[0m\n\u001b[1;32m     74\u001b[0m                     \u001b[0mbar_length\u001b[0m \u001b[0;34m=\u001b[0m \u001b[0;36m4\u001b[0m \u001b[0;34m*\u001b[0m \u001b[0mresolution\u001b[0m\u001b[0;34m\u001b[0m\u001b[0;34m\u001b[0m\u001b[0m\n\u001b[1;32m     75\u001b[0m                     \u001b[0mtime_sig\u001b[0m \u001b[0;34m=\u001b[0m \u001b[0;34m[\u001b[0m\u001b[0;36m4\u001b[0m\u001b[0;34m,\u001b[0m \u001b[0;36m2\u001b[0m\u001b[0;34m,\u001b[0m \u001b[0;36m24\u001b[0m\u001b[0;34m,\u001b[0m \u001b[0;36m8\u001b[0m\u001b[0;34m]\u001b[0m\u001b[0;34m\u001b[0m\u001b[0;34m\u001b[0m\u001b[0m\n\u001b[0;32m---> 76\u001b[0;31m                     \u001b[0;32mif\u001b[0m \u001b[0mnum_bar\u001b[0m \u001b[0;32mis\u001b[0m \u001b[0;32mNone\u001b[0m\u001b[0;34m:\u001b[0m\u001b[0;34m\u001b[0m\u001b[0;34m\u001b[0m\u001b[0m\n\u001b[0m\u001b[1;32m     77\u001b[0m                         \u001b[0;31m#num_bar=0\u001b[0m\u001b[0;34m\u001b[0m\u001b[0;34m\u001b[0m\u001b[0;34m\u001b[0m\u001b[0m\n\u001b[1;32m     78\u001b[0m                         \u001b[0;31m#for t in pattern[track_num]:\u001b[0m\u001b[0;34m\u001b[0m\u001b[0;34m\u001b[0m\u001b[0;34m\u001b[0m\u001b[0m\n",
      "\u001b[0;31mIndexError\u001b[0m: only integers, slices (`:`), ellipsis (`...`), numpy.newaxis (`None`) and integer or boolean arrays are valid indices"
     ]
    }
   ],
   "source": [
    "for i in range(0, num_samples):\n",
    "    #print(i)\n",
    "    feature = core.extract_feature(set1[i])\n",
    "    print(getattr(core.metrics(), \"bar_used_pitch\")(feature))"
   ]
  },
  {
   "cell_type": "code",
   "execution_count": 134,
   "metadata": {},
   "outputs": [
    {
     "name": "stdout",
     "output_type": "stream",
     "text": [
      "3185\n",
      "4225\n",
      "2592\n",
      "2954\n",
      "3868\n"
     ]
    }
   ],
   "source": [
    "for i in range(0, num_samples):\n",
    "    #print(i)\n",
    "    feature = core.extract_feature(set1[i])\n",
    "    print(getattr(core.metrics(), 'total_used_note')(feature))"
   ]
  },
  {
   "cell_type": "code",
   "execution_count": 135,
   "metadata": {},
   "outputs": [
    {
     "ename": "IndexError",
     "evalue": "only integers, slices (`:`), ellipsis (`...`), numpy.newaxis (`None`) and integer or boolean arrays are valid indices",
     "output_type": "error",
     "traceback": [
      "\u001b[0;31m---------------------------------------------------------------------------\u001b[0m",
      "\u001b[0;31mIndexError\u001b[0m                                Traceback (most recent call last)",
      "\u001b[0;32m<ipython-input-135-1f016cecb8c9>\u001b[0m in \u001b[0;36m<module>\u001b[0;34m\u001b[0m\n\u001b[1;32m      2\u001b[0m     \u001b[0;31m#print(i)\u001b[0m\u001b[0;34m\u001b[0m\u001b[0;34m\u001b[0m\u001b[0;34m\u001b[0m\u001b[0m\n\u001b[1;32m      3\u001b[0m     \u001b[0mfeature\u001b[0m \u001b[0;34m=\u001b[0m \u001b[0mcore\u001b[0m\u001b[0;34m.\u001b[0m\u001b[0mextract_feature\u001b[0m\u001b[0;34m(\u001b[0m\u001b[0mset1\u001b[0m\u001b[0;34m[\u001b[0m\u001b[0mi\u001b[0m\u001b[0;34m]\u001b[0m\u001b[0;34m)\u001b[0m\u001b[0;34m\u001b[0m\u001b[0;34m\u001b[0m\u001b[0m\n\u001b[0;32m----> 4\u001b[0;31m     \u001b[0mprint\u001b[0m\u001b[0;34m(\u001b[0m\u001b[0mgetattr\u001b[0m\u001b[0;34m(\u001b[0m\u001b[0mcore\u001b[0m\u001b[0;34m.\u001b[0m\u001b[0mmetrics\u001b[0m\u001b[0;34m(\u001b[0m\u001b[0;34m)\u001b[0m\u001b[0;34m,\u001b[0m \u001b[0;34m'bar_used_note'\u001b[0m\u001b[0;34m)\u001b[0m\u001b[0;34m(\u001b[0m\u001b[0mfeature\u001b[0m\u001b[0;34m)\u001b[0m\u001b[0;34m)\u001b[0m\u001b[0;34m\u001b[0m\u001b[0;34m\u001b[0m\u001b[0m\n\u001b[0m",
      "\u001b[0;32m~/Documents/njit/course/dl/project/mgeval-master/mgeval/core.py\u001b[0m in \u001b[0;36mbar_used_note\u001b[0;34m(self, feature, track_num, num_bar)\u001b[0m\n\u001b[1;32m    148\u001b[0m                 \u001b[0;32mif\u001b[0m \u001b[0mnum_bar\u001b[0m \u001b[0;32mis\u001b[0m \u001b[0;32mNone\u001b[0m\u001b[0;34m:\u001b[0m\u001b[0;34m\u001b[0m\u001b[0;34m\u001b[0m\u001b[0m\n\u001b[1;32m    149\u001b[0m                     \u001b[0;31m#num_bar=0\u001b[0m\u001b[0;34m\u001b[0m\u001b[0;34m\u001b[0m\u001b[0;34m\u001b[0m\u001b[0m\n\u001b[0;32m--> 150\u001b[0;31m                     \u001b[0;31m#for t in pattern[track_num]:\u001b[0m\u001b[0;34m\u001b[0m\u001b[0;34m\u001b[0m\u001b[0;34m\u001b[0m\u001b[0m\n\u001b[0m\u001b[1;32m    151\u001b[0m                     \u001b[0;31m#    num_bar=num_bar+t.tick\u001b[0m\u001b[0;34m\u001b[0m\u001b[0;34m\u001b[0m\u001b[0;34m\u001b[0m\u001b[0m\n\u001b[1;32m    152\u001b[0m                     \u001b[0;31m#num_bar=int(round(float(num_bar)/bar_length))\u001b[0m\u001b[0;34m\u001b[0m\u001b[0;34m\u001b[0m\u001b[0;34m\u001b[0m\u001b[0m\n",
      "\u001b[0;31mIndexError\u001b[0m: only integers, slices (`:`), ellipsis (`...`), numpy.newaxis (`None`) and integer or boolean arrays are valid indices"
     ]
    }
   ],
   "source": [
    "for i in range(0, num_samples):\n",
    "    #print(i)\n",
    "    feature = core.extract_feature(set1[i])\n",
    "    print(getattr(core.metrics(), 'bar_used_note')(feature))"
   ]
  },
  {
   "cell_type": "code",
   "execution_count": 136,
   "metadata": {},
   "outputs": [
    {
     "name": "stdout",
     "output_type": "stream",
     "text": [
      "[0.03341968 0.06291233 0.1666172  0.0089287  0.10780263 0.03696209\n",
      " 0.08790746 0.12354151 0.02620341 0.19779031 0.03167897 0.11623572]\n",
      "[0.06836883 0.10282868 0.15183493 0.02638756 0.12318341 0.07204067\n",
      " 0.07470941 0.07424276 0.04440924 0.16271229 0.04663947 0.05264275]\n",
      "[0.12970717 0.0557868  0.06878983 0.06365024 0.08133574 0.08457233\n",
      " 0.04327065 0.14078341 0.10794457 0.08183089 0.05106346 0.0912649 ]\n",
      "[0.04951047 0.10709996 0.16459592 0.02363331 0.16313155 0.03953011\n",
      " 0.08132888 0.06822512 0.05212885 0.12900352 0.02351149 0.09830083]\n",
      "[0.02935019 0.07926893 0.17925044 0.02088474 0.07417852 0.06223667\n",
      " 0.1162788  0.10993261 0.01620234 0.15056907 0.07935596 0.08249174]\n"
     ]
    }
   ],
   "source": [
    "for i in range(0, num_samples):\n",
    "    #print(i)\n",
    "    feature = core.extract_feature(set1[i])\n",
    "    print(getattr(core.metrics(), 'total_pitch_class_histogram')(feature))"
   ]
  },
  {
   "cell_type": "code",
   "execution_count": 137,
   "metadata": {},
   "outputs": [
    {
     "name": "stdout",
     "output_type": "stream",
     "text": [
      "[[0.         0.         0.24701937 ... 0.21013413 0.         0.        ]\n",
      " [0.         0.         0.25740979 ... 0.19958119 0.         0.        ]\n",
      " [0.         0.         0.13851457 ... 0.17486681 0.         0.        ]\n",
      " ...\n",
      " [0.         0.         0.44383562 ... 0.06643836 0.         0.        ]\n",
      " [0.         0.         0.36688436 ... 0.63311564 0.         0.        ]\n",
      " [0.         0.         0.68965517 ... 0.31034483 0.         0.        ]]\n",
      "[[0.         0.         0.7896857  ... 0.         0.         0.        ]\n",
      " [0.         0.         0.28200906 ... 0.19655355 0.         0.05028524]\n",
      " [0.         0.04328342 0.3150071  ... 0.21630779 0.06492513 0.        ]\n",
      " ...\n",
      " [0.         0.03336349 0.00595967 ... 0.50231469 0.         0.        ]\n",
      " [0.         0.         0.70957345 ... 0.06034837 0.         0.        ]\n",
      " [0.         0.         0.63221937 ... 0.31071123 0.         0.        ]]\n",
      "[[0.68553893 0.         0.         ... 0.         0.         0.        ]\n",
      " [0.40999416 0.         0.         ... 0.         0.         0.        ]\n",
      " [0.         0.         0.         ... 0.         0.         0.        ]\n",
      " ...\n",
      " [0.46198881 0.         0.         ... 0.         0.         0.        ]\n",
      " [0.46326905 0.         0.         ... 0.         0.         0.        ]\n",
      " [0.46296296 0.         0.         ... 0.         0.         0.        ]]\n",
      "[[0.         0.         0.         ... 0.4516129  0.         0.        ]\n",
      " [0.         0.         0.         ... 0.4555829  0.         0.        ]\n",
      " [0.         0.         0.         ... 0.52791056 0.         0.04180507]\n",
      " ...\n",
      " [0.         0.24       0.         ... 0.52       0.         0.        ]\n",
      " [0.         0.24       0.         ... 0.52       0.         0.        ]\n",
      " [0.         0.24       0.         ... 0.52       0.         0.        ]]\n",
      "[[0.         0.03824421 0.28424752 ... 0.43357222 0.         0.24393605]\n",
      " [0.         0.         0.72667425 ... 0.27332575 0.         0.        ]\n",
      " [0.         0.50524596 0.05486756 ... 0.23039216 0.         0.        ]\n",
      " ...\n",
      " [0.         0.         0.6875     ... 0.3125     0.         0.        ]\n",
      " [0.         0.         0.68333333 ... 0.31666667 0.         0.        ]\n",
      " [0.         0.         0.68333333 ... 0.31666667 0.         0.        ]]\n"
     ]
    }
   ],
   "source": [
    "for i in range(0, num_samples):\n",
    "    #print(i)\n",
    "    feature = core.extract_feature(set1[i])\n",
    "    print(getattr(core.metrics(), 'bar_pitch_class_histogram')(feature))"
   ]
  },
  {
   "cell_type": "code",
   "execution_count": 138,
   "metadata": {},
   "outputs": [
    {
     "name": "stdout",
     "output_type": "stream",
     "text": [
      "[[ 32.   3.  69.   5.  12.   4.  10.  33.   0.  19.  15.  18.]\n",
      " [  1.  27.  59.   0.  31.   2.  18.  20.   6.  48.  13.  57.]\n",
      " [ 61.  72. 160.  26. 114.  26. 102. 129.   3.  96.   8. 111.]\n",
      " [  8.   0.   9.   1.  38.   0.   3.   1.   0.   2.   0.   1.]\n",
      " [ 11.  26. 140.  20.  30.  38.  79.  69.  23.  64.   4.  25.]\n",
      " [ 13.   0.  15.   3.  42.  18.   7.  26.   7.  25.   4.  13.]\n",
      " [  9.   8. 123.   1.  77.   7.  48.  45.  30.  76.   4.  36.]\n",
      " [ 35.  40. 114.   0.  59.  28.  56. 191.   9.  50.  61. 125.]\n",
      " [  2.   7.   5.   1.  23.   1.  22.   3.   7.  49.   2.  25.]\n",
      " [ 14.  45.  97.   2.  46.  23.  93.  82.  43. 122.  52. 130.]\n",
      " [  6.  20.   4.   0.   2.   1.   2.  66.   0.  42.  22.  33.]\n",
      " [ 31.  49.  92.   0.  46.  15.  26. 124.  13. 164.  25.  91.]]\n",
      "[[ 45.  32.  66.  25.  49.  30.   4.  39.  20.  91.  68.  14.]\n",
      " [ 33.  58. 124.  14. 149.  26.  14.  11.  17. 109.  15. 110.]\n",
      " [ 54. 107.  78.  37. 100.  63.  82.  32.  16.  77.  87.  50.]\n",
      " [ 32.  31.  21.  19.  20.  26.  18.  26.   5.   9.  14.   9.]\n",
      " [ 65. 135. 160.  28. 102.  26.  85.  34.  41. 110.  13.  66.]\n",
      " [ 34.  30.  68.  39.  38.  38.   5.  76.  19. 109.  33.   8.]\n",
      " [  7.   8.  69.  31. 108.   8.  46.  60.  39.  91.  14.  31.]\n",
      " [ 27.  13.  56.  26.  78.  55.  51.  20.  14. 123.  10.  22.]\n",
      " [ 18.  28.  20.   7.  50.  21.  29.  11.  17.  54.  13.  33.]\n",
      " [ 51. 118.  97.  16. 110. 146.  94. 151.  35. 132.  64.  77.]\n",
      " [ 70.   9.  74.   3.   6.  35.  13.  25.  17.  42.  24.  13.]\n",
      " [ 22.  56.  31.   9.  54.  23.  12.  41.  50.  73.  12.  16.]]\n",
      "[[207.  31.  87.  29.  81.  61.  20. 127.  21.  66.  75.  93.]\n",
      " [ 40.  83.  32.  26.  31.  31.  22.   7.  34.   6.  45.  27.]\n",
      " [ 82.   9.  78.  82.  40.  31.  19. 101.  31.  34.  12.  51.]\n",
      " [ 34.  52.  24.  72.  26.  76.   3.  21.  35.  17.  40.   6.]\n",
      " [ 77.  43.  70.   8. 103.  29.  19. 126.   9.  65.   7.  36.]\n",
      " [ 23.  39.  37.  42.  42. 131.  17.  81.  44.  16.  27.  55.]\n",
      " [  6.  16.  18.   6.  18.   9.  45.  32.  29.  14.   9.  24.]\n",
      " [192.   7.  63.  38. 108.  57.  27. 242.  49.  19.  38.  50.]\n",
      " [ 32.  41.  37.  37.   5.  32.  36.  38. 125.  53.  33.  45.]\n",
      " [ 70.  10.  79.  20.  33.  11.  23.  26.  32. 178.  25.  50.]\n",
      " [ 34.  50.  10.  45.  15.  14.   9.  41.  49.  26.  73.  19.]\n",
      " [ 99.  15.  56.   6.  60.  19.  10.  57.  26.  64.   9. 163.]]\n",
      "[[120.   9.  98.   4.  65.  39.   7.  96.   8.  54.  27.  62.]\n",
      " [  4. 160.  74.  15. 139.  10.  53.  12.  62. 114.  11. 105.]\n",
      " [ 95.  76. 339.  26. 162.  43. 115. 133.  22. 136.  29. 151.]\n",
      " [  3.  24.  24.  24.  22.   4.  20.   2.  17.  11.   5.  16.]\n",
      " [ 73. 145. 161.  28. 317.  36. 105.  70.  85. 184.   5.  99.]\n",
      " [ 41.   2.  41.  12.  32.  97.   5.  22.   1.  29.  35.   7.]\n",
      " [ 28.  46. 127.  38. 123.   3. 108.  46.  53. 114.  12.  47.]\n",
      " [ 95.  11. 143.   1.  70.  30.  53. 212.   8. 101.   5.  79.]\n",
      " [  9.  78.  23.  15.  93.   4.  54.   3. 127.  58.   1.  25.]\n",
      " [ 56. 111. 143.  25. 150.  33. 110. 120.  55. 322.  36. 131.]\n",
      " [ 29.   4.  32.   5.   8.  45.  14.   6.   3.  30.  35.  21.]\n",
      " [ 64.  72. 147.  18. 103.  13.  45.  81.  26. 158.  10. 164.]]\n",
      "[[311.   7.  70.  38.  42.  72.   0.  58.   5.  20.   7.  71.]\n",
      " [ 13. 328.  94.   6.  64.  38. 127. 102.  29. 177.  73.  80.]\n",
      " [ 77. 107. 895.  18. 140.  97. 202. 295.  36. 257. 129. 237.]\n",
      " [ 30.   4.  24. 109.   7.  50.  36.  18.   0.   0.  39.  43.]\n",
      " [ 38.  51. 146.   8. 263.  19.  73. 107.  21. 128.  16.  40.]\n",
      " [ 50.  49. 107.  44.  17. 254.  29.  29.   8.  20.  80.  23.]\n",
      " [  0.  91. 213.  36.  70.  23. 446. 116.  42. 186.  59.  89.]\n",
      " [ 90. 107. 264.  18. 123.  36. 105. 508.   7. 208.  72. 100.]\n",
      " [  0.  39.  16.   0.  18.   6.  29.   2.  39.  47.  18.   8.]\n",
      " [ 39. 163. 261.   9. 128.  25. 171. 213.  33. 716.  19. 119.]\n",
      " [  6.  80. 128.  45.  12.  79.  70.  78.  23.  45. 327.  50.]\n",
      " [ 33. 105. 222.  35.  78.  20.  75. 123.   7. 110.  32. 435.]]\n"
     ]
    }
   ],
   "source": [
    "for i in range(0, num_samples):\n",
    "    #print(i)\n",
    "    feature = core.extract_feature(set1[i])\n",
    "    print(getattr(core.metrics(), 'pitch_class_transition_matrix')(feature))"
   ]
  },
  {
   "cell_type": "code",
   "execution_count": 139,
   "metadata": {},
   "outputs": [
    {
     "name": "stdout",
     "output_type": "stream",
     "text": [
      "48\n",
      "59\n",
      "50\n",
      "48\n",
      "45\n"
     ]
    }
   ],
   "source": [
    "for i in range(0, num_samples):\n",
    "    #print(i)\n",
    "    feature = core.extract_feature(set1[i])\n",
    "    print(getattr(core.metrics(), 'pitch_range')(feature))"
   ]
  },
  {
   "cell_type": "code",
   "execution_count": 140,
   "metadata": {},
   "outputs": [
    {
     "name": "stdout",
     "output_type": "stream",
     "text": [
      "4.088881909547739\n",
      "4.274621212121212\n",
      "6.954843689695099\n",
      "5.5489332881815105\n",
      "5.667183863460046\n"
     ]
    }
   ],
   "source": [
    "for i in range(0, num_samples):\n",
    "    #print(i)\n",
    "    feature = core.extract_feature(set1[i])\n",
    "    print(getattr(core.metrics(), 'avg_pitch_shift')(feature))"
   ]
  },
  {
   "cell_type": "code",
   "execution_count": 141,
   "metadata": {},
   "outputs": [
    {
     "name": "stdout",
     "output_type": "stream",
     "text": [
      "0.09099285855226487\n",
      "0.0698114232193091\n",
      "0.07491340379234582\n",
      "0.11679322363075495\n",
      "0.0870731882316065\n"
     ]
    }
   ],
   "source": [
    "for i in range(0, num_samples):\n",
    "    #print(i)\n",
    "    feature = core.extract_feature(set1[i])\n",
    "    print(getattr(core.metrics(), 'avg_IOI')(feature))"
   ]
  },
  {
   "cell_type": "code",
   "execution_count": 142,
   "metadata": {},
   "outputs": [
    {
     "name": "stdout",
     "output_type": "stream",
     "text": [
      "[0.00125589 0.02197802 0.02072214 0.29356358 0.59748823 0.\n",
      " 0.00313972 0.01789639 0.         0.00062794 0.         0.0433281 ]\n",
      "[0.         0.04733728 0.05112426 0.05136095 0.19952663 0.\n",
      " 0.00923077 0.0191716  0.01136095 0.         0.00284024 0.60804734]\n",
      "[0.00115741 0.02430556 0.21026235 0.25617284 0.45910494 0.\n",
      " 0.02430556 0.00925926 0.00925926 0.00154321 0.         0.00462963]\n",
      "[0.0013541  0.0013541  0.04773189 0.28672986 0.47901151 0.00541638\n",
      " 0.03723764 0.08226134 0.05619499 0.00203114 0.         0.00067705]\n",
      "[0.00077559 0.16080662 0.2836091  0.04524302 0.36116856 0.00103413\n",
      " 0.07755946 0.0483454  0.         0.         0.00284385 0.01861427]\n"
     ]
    }
   ],
   "source": [
    "for i in range(0, num_samples):\n",
    "    #print(i)\n",
    "    feature = core.extract_feature(set1[i])\n",
    "    print(getattr(core.metrics(), 'note_length_hist')(feature))"
   ]
  },
  {
   "cell_type": "code",
   "execution_count": 143,
   "metadata": {},
   "outputs": [
    {
     "name": "stdout",
     "output_type": "stream",
     "text": [
      "[[3.000e+00 0.000e+00 0.000e+00 0.000e+00 1.000e+00 0.000e+00 0.000e+00\n",
      "  0.000e+00 0.000e+00 0.000e+00 0.000e+00 0.000e+00]\n",
      " [0.000e+00 3.300e+01 3.000e+00 7.000e+00 1.500e+01 0.000e+00 0.000e+00\n",
      "  4.000e+00 0.000e+00 0.000e+00 0.000e+00 7.000e+00]\n",
      " [0.000e+00 3.000e+00 1.700e+01 1.700e+01 2.100e+01 0.000e+00 3.000e+00\n",
      "  1.000e+00 0.000e+00 0.000e+00 0.000e+00 4.000e+00]\n",
      " [0.000e+00 1.100e+01 1.400e+01 8.200e+02 7.300e+01 0.000e+00 2.000e+00\n",
      "  5.000e+00 0.000e+00 2.000e+00 0.000e+00 8.000e+00]\n",
      " [1.000e+00 1.500e+01 2.600e+01 8.200e+01 1.744e+03 0.000e+00 1.000e+00\n",
      "  3.400e+01 0.000e+00 0.000e+00 0.000e+00 0.000e+00]\n",
      " [0.000e+00 0.000e+00 0.000e+00 0.000e+00 0.000e+00 0.000e+00 0.000e+00\n",
      "  0.000e+00 0.000e+00 0.000e+00 0.000e+00 0.000e+00]\n",
      " [0.000e+00 0.000e+00 2.000e+00 4.000e+00 0.000e+00 0.000e+00 4.000e+00\n",
      "  0.000e+00 0.000e+00 0.000e+00 0.000e+00 0.000e+00]\n",
      " [0.000e+00 1.000e+00 2.000e+00 0.000e+00 4.500e+01 0.000e+00 0.000e+00\n",
      "  9.000e+00 0.000e+00 0.000e+00 0.000e+00 0.000e+00]\n",
      " [0.000e+00 0.000e+00 0.000e+00 0.000e+00 0.000e+00 0.000e+00 0.000e+00\n",
      "  0.000e+00 0.000e+00 0.000e+00 0.000e+00 0.000e+00]\n",
      " [0.000e+00 0.000e+00 0.000e+00 0.000e+00 2.000e+00 0.000e+00 0.000e+00\n",
      "  0.000e+00 0.000e+00 0.000e+00 0.000e+00 0.000e+00]\n",
      " [0.000e+00 0.000e+00 0.000e+00 0.000e+00 0.000e+00 0.000e+00 0.000e+00\n",
      "  0.000e+00 0.000e+00 0.000e+00 0.000e+00 0.000e+00]\n",
      " [0.000e+00 7.000e+00 2.000e+00 5.000e+00 2.000e+00 0.000e+00 0.000e+00\n",
      "  3.000e+00 0.000e+00 0.000e+00 0.000e+00 1.190e+02]]\n",
      "[[0.000e+00 0.000e+00 0.000e+00 0.000e+00 0.000e+00 0.000e+00 0.000e+00\n",
      "  0.000e+00 0.000e+00 0.000e+00 0.000e+00 0.000e+00]\n",
      " [0.000e+00 1.300e+02 1.000e+00 0.000e+00 4.900e+01 0.000e+00 0.000e+00\n",
      "  0.000e+00 3.000e+00 0.000e+00 3.000e+00 1.300e+01]\n",
      " [0.000e+00 1.000e+00 1.230e+02 5.100e+01 1.800e+01 0.000e+00 2.100e+01\n",
      "  0.000e+00 0.000e+00 0.000e+00 0.000e+00 2.000e+00]\n",
      " [0.000e+00 1.000e+00 1.300e+01 1.270e+02 3.400e+01 0.000e+00 0.000e+00\n",
      "  0.000e+00 0.000e+00 0.000e+00 0.000e+00 4.200e+01]\n",
      " [0.000e+00 3.000e+01 4.600e+01 1.100e+01 6.310e+02 0.000e+00 1.400e+01\n",
      "  3.600e+01 0.000e+00 0.000e+00 3.000e+00 7.200e+01]\n",
      " [0.000e+00 0.000e+00 0.000e+00 0.000e+00 0.000e+00 0.000e+00 0.000e+00\n",
      "  0.000e+00 0.000e+00 0.000e+00 0.000e+00 0.000e+00]\n",
      " [0.000e+00 0.000e+00 2.600e+01 8.000e+00 2.000e+00 0.000e+00 3.000e+00\n",
      "  0.000e+00 0.000e+00 0.000e+00 0.000e+00 0.000e+00]\n",
      " [0.000e+00 0.000e+00 0.000e+00 0.000e+00 4.800e+01 0.000e+00 0.000e+00\n",
      "  3.300e+01 0.000e+00 0.000e+00 0.000e+00 0.000e+00]\n",
      " [0.000e+00 0.000e+00 3.000e+00 0.000e+00 0.000e+00 0.000e+00 0.000e+00\n",
      "  0.000e+00 3.300e+01 0.000e+00 0.000e+00 1.200e+01]\n",
      " [0.000e+00 0.000e+00 0.000e+00 0.000e+00 0.000e+00 0.000e+00 0.000e+00\n",
      "  0.000e+00 0.000e+00 0.000e+00 0.000e+00 0.000e+00]\n",
      " [0.000e+00 0.000e+00 0.000e+00 0.000e+00 6.000e+00 0.000e+00 0.000e+00\n",
      "  0.000e+00 0.000e+00 0.000e+00 6.000e+00 0.000e+00]\n",
      " [0.000e+00 3.700e+01 4.000e+00 2.000e+01 5.500e+01 0.000e+00 1.000e+00\n",
      "  1.200e+01 1.200e+01 0.000e+00 0.000e+00 2.428e+03]]\n",
      "[[2.000e+00 0.000e+00 0.000e+00 0.000e+00 1.000e+00 0.000e+00 0.000e+00\n",
      "  0.000e+00 0.000e+00 0.000e+00 0.000e+00 0.000e+00]\n",
      " [0.000e+00 4.500e+01 4.000e+00 7.000e+00 6.000e+00 0.000e+00 0.000e+00\n",
      "  1.000e+00 0.000e+00 0.000e+00 0.000e+00 0.000e+00]\n",
      " [0.000e+00 4.000e+00 3.870e+02 5.200e+01 9.200e+01 0.000e+00 2.000e+00\n",
      "  7.000e+00 0.000e+00 0.000e+00 0.000e+00 0.000e+00]\n",
      " [1.000e+00 7.000e+00 4.900e+01 5.520e+02 2.200e+01 0.000e+00 2.900e+01\n",
      "  0.000e+00 0.000e+00 4.000e+00 0.000e+00 0.000e+00]\n",
      " [0.000e+00 7.000e+00 1.000e+02 2.300e+01 1.045e+03 0.000e+00 0.000e+00\n",
      "  2.000e+00 1.200e+01 0.000e+00 0.000e+00 1.000e+00]\n",
      " [0.000e+00 0.000e+00 0.000e+00 0.000e+00 0.000e+00 0.000e+00 0.000e+00\n",
      "  0.000e+00 0.000e+00 0.000e+00 0.000e+00 0.000e+00]\n",
      " [0.000e+00 0.000e+00 4.000e+00 2.700e+01 0.000e+00 0.000e+00 3.200e+01\n",
      "  0.000e+00 0.000e+00 0.000e+00 0.000e+00 0.000e+00]\n",
      " [0.000e+00 0.000e+00 0.000e+00 2.000e+00 8.000e+00 0.000e+00 0.000e+00\n",
      "  1.400e+01 0.000e+00 0.000e+00 0.000e+00 0.000e+00]\n",
      " [0.000e+00 0.000e+00 0.000e+00 0.000e+00 1.200e+01 0.000e+00 0.000e+00\n",
      "  0.000e+00 1.200e+01 0.000e+00 0.000e+00 0.000e+00]\n",
      " [0.000e+00 0.000e+00 0.000e+00 0.000e+00 4.000e+00 0.000e+00 0.000e+00\n",
      "  0.000e+00 0.000e+00 0.000e+00 0.000e+00 0.000e+00]\n",
      " [0.000e+00 0.000e+00 0.000e+00 0.000e+00 0.000e+00 0.000e+00 0.000e+00\n",
      "  0.000e+00 0.000e+00 0.000e+00 0.000e+00 0.000e+00]\n",
      " [0.000e+00 0.000e+00 0.000e+00 1.000e+00 0.000e+00 0.000e+00 0.000e+00\n",
      "  0.000e+00 0.000e+00 0.000e+00 0.000e+00 1.100e+01]]\n",
      "[[0.000e+00 0.000e+00 0.000e+00 0.000e+00 0.000e+00 4.000e+00 0.000e+00\n",
      "  0.000e+00 0.000e+00 0.000e+00 0.000e+00 0.000e+00]\n",
      " [0.000e+00 2.000e+00 0.000e+00 0.000e+00 0.000e+00 0.000e+00 2.000e+00\n",
      "  0.000e+00 0.000e+00 0.000e+00 0.000e+00 0.000e+00]\n",
      " [0.000e+00 0.000e+00 8.200e+01 4.400e+01 9.000e+00 0.000e+00 0.000e+00\n",
      "  6.000e+00 0.000e+00 0.000e+00 0.000e+00 0.000e+00]\n",
      " [2.000e+00 0.000e+00 2.000e+01 6.320e+02 1.230e+02 1.000e+00 3.400e+01\n",
      "  1.900e+01 1.400e+01 2.000e+00 0.000e+00 0.000e+00]\n",
      " [0.000e+00 1.000e+00 1.900e+01 1.040e+02 1.191e+03 1.000e+00 1.400e+01\n",
      "  6.800e+01 1.700e+01 0.000e+00 0.000e+00 0.000e+00]\n",
      " [1.000e+00 1.000e+00 0.000e+00 2.000e+00 0.000e+00 9.000e+00 2.000e+00\n",
      "  0.000e+00 0.000e+00 0.000e+00 0.000e+00 0.000e+00]\n",
      " [0.000e+00 0.000e+00 1.500e+01 2.600e+01 1.100e+01 0.000e+00 5.800e+01\n",
      "  0.000e+00 0.000e+00 0.000e+00 0.000e+00 0.000e+00]\n",
      " [0.000e+00 0.000e+00 0.000e+00 3.700e+01 5.800e+01 0.000e+00 0.000e+00\n",
      "  1.480e+02 0.000e+00 0.000e+00 0.000e+00 0.000e+00]\n",
      " [1.000e+00 0.000e+00 4.000e+00 1.000e+00 2.200e+01 1.000e+00 0.000e+00\n",
      "  2.000e+00 1.340e+02 0.000e+00 0.000e+00 1.000e+00]\n",
      " [0.000e+00 0.000e+00 1.000e+00 0.000e+00 1.000e+00 0.000e+00 0.000e+00\n",
      "  0.000e+00 0.000e+00 4.000e+00 0.000e+00 0.000e+00]\n",
      " [0.000e+00 0.000e+00 0.000e+00 0.000e+00 0.000e+00 0.000e+00 0.000e+00\n",
      "  0.000e+00 0.000e+00 0.000e+00 0.000e+00 0.000e+00]\n",
      " [0.000e+00 0.000e+00 0.000e+00 0.000e+00 0.000e+00 0.000e+00 0.000e+00\n",
      "  0.000e+00 1.000e+00 0.000e+00 0.000e+00 1.000e+00]]\n",
      "[[2.000e+00 0.000e+00 0.000e+00 0.000e+00 0.000e+00 0.000e+00 0.000e+00\n",
      "  0.000e+00 0.000e+00 0.000e+00 0.000e+00 0.000e+00]\n",
      " [0.000e+00 4.210e+02 7.100e+01 2.000e+00 1.700e+01 2.000e+00 1.090e+02\n",
      "  0.000e+00 0.000e+00 0.000e+00 0.000e+00 0.000e+00]\n",
      " [0.000e+00 4.600e+01 9.960e+02 1.800e+01 1.700e+01 2.000e+00 0.000e+00\n",
      "  1.400e+01 0.000e+00 0.000e+00 0.000e+00 4.000e+00]\n",
      " [1.000e+00 1.900e+01 0.000e+00 1.550e+02 0.000e+00 0.000e+00 0.000e+00\n",
      "  0.000e+00 0.000e+00 0.000e+00 0.000e+00 0.000e+00]\n",
      " [0.000e+00 1.200e+02 1.700e+01 0.000e+00 1.165e+03 0.000e+00 0.000e+00\n",
      "  8.500e+01 0.000e+00 0.000e+00 2.000e+00 8.000e+00]\n",
      " [0.000e+00 2.000e+00 2.000e+00 0.000e+00 0.000e+00 0.000e+00 0.000e+00\n",
      "  0.000e+00 0.000e+00 0.000e+00 0.000e+00 0.000e+00]\n",
      " [0.000e+00 2.000e+00 0.000e+00 0.000e+00 1.070e+02 0.000e+00 1.910e+02\n",
      "  0.000e+00 0.000e+00 0.000e+00 0.000e+00 0.000e+00]\n",
      " [0.000e+00 0.000e+00 1.100e+01 0.000e+00 8.400e+01 0.000e+00 0.000e+00\n",
      "  8.300e+01 0.000e+00 0.000e+00 9.000e+00 0.000e+00]\n",
      " [0.000e+00 0.000e+00 0.000e+00 0.000e+00 0.000e+00 0.000e+00 0.000e+00\n",
      "  0.000e+00 0.000e+00 0.000e+00 0.000e+00 0.000e+00]\n",
      " [0.000e+00 0.000e+00 0.000e+00 0.000e+00 0.000e+00 0.000e+00 0.000e+00\n",
      "  0.000e+00 0.000e+00 0.000e+00 0.000e+00 0.000e+00]\n",
      " [0.000e+00 0.000e+00 0.000e+00 0.000e+00 6.000e+00 0.000e+00 0.000e+00\n",
      "  5.000e+00 0.000e+00 0.000e+00 0.000e+00 0.000e+00]\n",
      " [0.000e+00 1.200e+01 0.000e+00 0.000e+00 0.000e+00 0.000e+00 0.000e+00\n",
      "  0.000e+00 0.000e+00 0.000e+00 0.000e+00 6.000e+01]]\n"
     ]
    }
   ],
   "source": [
    "for i in range(0, num_samples):\n",
    "    #print(i)\n",
    "    feature = core.extract_feature(set1[i])\n",
    "    print(getattr(core.metrics(), 'note_length_transition_matrix')(feature))"
   ]
  },
  {
   "cell_type": "markdown",
   "metadata": {},
   "source": [
    "## Relative measurement: generalizes the result among features with various dimensions\n"
   ]
  },
  {
   "cell_type": "markdown",
   "metadata": {},
   "source": [
    "the features are sum- marized to \n",
    "- the intra-set distances\n",
    "- the difference of intra-set and inter-set distances."
   ]
  },
  {
   "cell_type": "markdown",
   "metadata": {},
   "source": [
    "exhaustive cross-validation for intra-set distances measurement"
   ]
  },
  {
   "cell_type": "code",
   "execution_count": 53,
   "metadata": {},
   "outputs": [],
   "source": [
    "loo = LeaveOneOut()\n",
    "loo.get_n_splits(np.arange(num_samples))\n",
    "set1_intra = np.zeros((num_samples, len(metrics_list), num_samples-1))\n",
    "set2_intra = np.zeros((num_samples, len(metrics_list), num_samples-1))\n",
    "for i in range(len(metrics_list)):\n",
    "    for train_index, test_index in loo.split(np.arange(num_samples)):\n",
    "        set1_intra[test_index[0]][i] = utils.c_dist(set1_eval[metrics_list[i]][test_index], set1_eval[metrics_list[i]][train_index])\n",
    "        set2_intra[test_index[0]][i] = utils.c_dist(set2_eval[metrics_list[i]][test_index], set2_eval[metrics_list[i]][train_index])\n"
   ]
  },
  {
   "cell_type": "markdown",
   "metadata": {},
   "source": [
    "exhaustive cross-validation for inter-set distances measurement"
   ]
  },
  {
   "cell_type": "code",
   "execution_count": 54,
   "metadata": {},
   "outputs": [],
   "source": [
    "loo = LeaveOneOut()\n",
    "loo.get_n_splits(np.arange(num_samples))\n",
    "sets_inter = np.zeros((num_samples, len(metrics_list), num_samples))\n",
    "\n",
    "for i in range(len(metrics_list)):\n",
    "    for train_index, test_index in loo.split(np.arange(num_samples)):\n",
    "        sets_inter[test_index[0]][i] = utils.c_dist(set1_eval[metrics_list[i]][test_index], set2_eval[metrics_list[i]])"
   ]
  },
  {
   "cell_type": "markdown",
   "metadata": {},
   "source": [
    "visualization of intra-set and inter-set distances"
   ]
  },
  {
   "cell_type": "code",
   "execution_count": 55,
   "metadata": {},
   "outputs": [
    {
     "data": {
      "image/png": "[encoded data removed]",
      "text/plain": [
       "<Figure size 432x288 with 1 Axes>"
      ]
     },
     "metadata": {
      "needs_background": "light"
     },
     "output_type": "display_data"
    }
   ],
   "source": [
    "plot_set1_intra = np.transpose(set1_intra,(1, 0, 2)).reshape(len(metrics_list), -1)\n",
    "plot_set2_intra = np.transpose(set2_intra,(1, 0, 2)).reshape(len(metrics_list), -1)\n",
    "plot_sets_inter = np.transpose(sets_inter,(1, 0, 2)).reshape(len(metrics_list), -1)\n",
    "for i in range(0,len(metrics_list)):\n",
    "    sns.kdeplot(plot_set1_intra[i], label='intra_set1')\n",
    "    sns.kdeplot(plot_sets_inter[i], label='inter')\n",
    "    sns.kdeplot(plot_set2_intra[i], label='intra_set2')\n",
    "\n",
    "    plt.title(metrics_list[i])\n",
    "    plt.xlabel('Euclidean distance')\n",
    "    plt.show()"
   ]
  },
  {
   "cell_type": "markdown",
   "metadata": {},
   "source": [
    "the difference of intra-set and inter-set distances."
   ]
  },
  {
   "cell_type": "code",
   "execution_count": 56,
   "metadata": {},
   "outputs": [
    {
     "name": "stdout",
     "output_type": "stream",
     "text": [
      "total_used_pitch:\n",
      "------------------------\n",
      " demo_set1\n",
      "  Kullback–Leibler divergence: 0.10413331537658899\n",
      "  Overlap area: 0.008654951380237155\n",
      " demo_set2\n",
      "  Kullback–Leibler divergence: 0.30941488969263853\n",
      "  Overlap area: 3.415562918059309e-05\n"
     ]
    }
   ],
   "source": [
    "for i in range(0, len(metrics_list)):\n",
    "    print(metrics_list[i] + ':')\n",
    "    print('------------------------')\n",
    "    print(' demo_set1')\n",
    "    print('  Kullback–Leibler divergence:',utils.kl_dist(plot_set1_intra[i], plot_sets_inter[i]))\n",
    "    print('  Overlap area:', utils.overlap_area(plot_set1_intra[i], plot_sets_inter[i]))\n",
    "    \n",
    "    print(' demo_set2')\n",
    "    print('  Kullback–Leibler divergence:',utils.kl_dist(plot_set2_intra[i], plot_sets_inter[i]))\n",
    "    print('  Overlap area:', utils.overlap_area(plot_set2_intra[i], plot_sets_inter[i]))\n",
    "    "
   ]
  },
  {
   "cell_type": "code",
   "execution_count": null,
   "metadata": {
    "collapsed": true
   },
   "outputs": [],
   "source": []
  }
 ],
 "metadata": {
  "kernelspec": {
   "display_name": "Python 3",
   "language": "python",
   "name": "python3"
  },
  "language_info": {
   "codemirror_mode": {
    "name": "ipython",
    "version": 3
   },
   "file_extension": ".py",
   "mimetype": "text/x-python",
   "name": "python",
   "nbconvert_exporter": "python",
   "pygments_lexer": "ipython3",
   "version": "3.7.6"
  }
 },
 "nbformat": 4,
 "nbformat_minor": 2
}
